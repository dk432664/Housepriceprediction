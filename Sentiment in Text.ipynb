{
  "nbformat": 4,
  "nbformat_minor": 0,
  "metadata": {
    "colab": {
      "name": "Untitled17.ipynb",
      "version": "0.3.2",
      "provenance": [],
      "collapsed_sections": [],
      "include_colab_link": true
    },
    "kernelspec": {
      "name": "python3",
      "display_name": "Python 3"
    }
  },
  "cells": [
    {
      "cell_type": "markdown",
      "metadata": {
        "id": "view-in-github",
        "colab_type": "text"
      },
      "source": [
        "<a href=\"https://colab.research.google.com/github/dk432664/Housepriceprediction/blob/master/Sentiment%20in%20Text.ipynb\" target=\"_parent\"><img src=\"https://colab.research.google.com/assets/colab-badge.svg\" alt=\"Open In Colab\"/></a>"
      ]
    },
    {
      "cell_type": "code",
      "metadata": {
        "id": "dwOO27jGODGu",
        "colab_type": "code",
        "colab": {}
      },
      "source": [
        ""
      ],
      "execution_count": 0,
      "outputs": []
    },
    {
      "cell_type": "markdown",
      "metadata": {
        "id": "6RnR5xkrOVsP",
        "colab_type": "text"
      },
      "source": [
        "#Sentiment in text \n"
      ]
    },
    {
      "cell_type": "code",
      "metadata": {
        "id": "69JfKb-YOf7Z",
        "colab_type": "code",
        "colab": {}
      },
      "source": [
        "import tensorflow as tf\n",
        "from tensorflow import keras\n"
      ],
      "execution_count": 0,
      "outputs": []
    },
    {
      "cell_type": "code",
      "metadata": {
        "id": "3FfQw9CWPnU1",
        "colab_type": "code",
        "colab": {}
      },
      "source": [
        "from tensorflow.keras.preprocessing.text import Tokenizer\n",
        "from tensorflow.keras.preprocessing.sequence import pad_sequences\n",
        "sentence=['Top Institute of Engineering in Technology Exploration',\n",
        "           'Institute of Engineering and Technology Kharagpur',\n",
        "            'Institute of Engineering and Technology Madras',\n",
        "         'Institute of Engineering and Technology Bombay',\n",
        "          'Institute of Engineering and Technology Roorkee',\n",
        "          'Institute of Engineering and Technology Kharagpur',\n",
        "          'Institute of Engineering and Technology Kanpur',\n",
        "          'Institute of Engineering and Technology Guwati',\n",
        "          'Top Engineering Institute in MadhyaPradesh',\n",
        "          'Institute of Engineering and Technology DAVV',\n",
        "          'SGSITS',\n",
        "          'National Institute Of Technology Bhopal',\n",
        "          'Indian Institute of Engineering and Technology',\n",
        "          'MY Hobbies',\n",
        "          'I love to play Badminton',\n",
        "          'I love to play Cricket',\n",
        "          'I love to play Hockey',\n",
        "          'I love to play VolleyBall',\n",
        "          'I love to play Pool',\n",
        "          'I love to listen songs of TK',\n",
        "          'I love to listen songs of AS',\n",
        "          'I love to listen songs of AW',\n",
        "          'I love to listen songs of DB',\n",
        "          'No of Subjects in 3 year of Engineering',\n",
        "          'Software Engineering',\n",
        "          'Software Lab']\n",
        "\n",
        "          \n",
        "         \n",
        "          "
      ],
      "execution_count": 0,
      "outputs": []
    },
    {
      "cell_type": "code",
      "metadata": {
        "id": "RVUgCWTNSkE_",
        "colab_type": "code",
        "colab": {}
      },
      "source": [
        "token=Tokenizer(num_words=300,oov_token=\"<OOTK>\")\n"
      ],
      "execution_count": 0,
      "outputs": []
    },
    {
      "cell_type": "code",
      "metadata": {
        "id": "eV13MbJbTGvb",
        "colab_type": "code",
        "outputId": "78fb22c4-1a38-4a5c-f7f4-42c280751364",
        "colab": {
          "base_uri": "https://localhost:8080/",
          "height": 565
        }
      },
      "source": [
        "  token.fit_on_texts(sentence)\n",
        "  words_index=token.word_index\n",
        "  sequence=token.texts_to_sequences(sentence)\n",
        "  pad_d=pad_sequences(sequence,maxlen=13,padding='post')\n",
        "  test_data=['I love to play Kabbadi',\n",
        "             'Institute of Engineering and Technology Hyderabad',\n",
        "             'I love to listen songs of pritam Da ',\n",
        "             'Computer Network']\n",
        "             \n",
        "  tok=token.texts_to_sequences(test_data)\n",
        "  \n",
        "  \n",
        "  words_count=token.word_counts\n",
        "  print(words_index)\n",
        "  print(words_count)\n",
        "  print(sequence)\n",
        "  print(pad_d)\n",
        "  print(tok)\n",
        "  "
      ],
      "execution_count": 0,
      "outputs": [
        {
          "output_type": "stream",
          "text": [
            "{'<OOTK>': 1, 'of': 2, 'engineering': 3, 'institute': 4, 'technology': 5, 'and': 6, 'i': 7, 'love': 8, 'to': 9, 'play': 10, 'listen': 11, 'songs': 12, 'in': 13, 'top': 14, 'kharagpur': 15, 'software': 16, 'exploration': 17, 'madras': 18, 'bombay': 19, 'roorkee': 20, 'kanpur': 21, 'guwati': 22, 'madhyapradesh': 23, 'davv': 24, 'sgsits': 25, 'national': 26, 'bhopal': 27, 'indian': 28, 'my': 29, 'hobbies': 30, 'badminton': 31, 'cricket': 32, 'hockey': 33, 'volleyball': 34, 'pool': 35, 'tk': 36, 'as': 37, 'aw': 38, 'db': 39, 'no': 40, 'subjects': 41, '3': 42, 'year': 43, 'lab': 44}\n",
            "OrderedDict([('top', 4), ('institute', 24), ('of', 34), ('engineering', 26), ('in', 6), ('technology', 22), ('exploration', 2), ('and', 18), ('kharagpur', 4), ('madras', 2), ('bombay', 2), ('roorkee', 2), ('kanpur', 2), ('guwati', 2), ('madhyapradesh', 2), ('davv', 2), ('sgsits', 2), ('national', 2), ('bhopal', 2), ('indian', 2), ('my', 2), ('hobbies', 2), ('i', 18), ('love', 18), ('to', 18), ('play', 10), ('badminton', 2), ('cricket', 2), ('hockey', 2), ('volleyball', 2), ('pool', 2), ('listen', 8), ('songs', 8), ('tk', 2), ('as', 2), ('aw', 2), ('db', 2), ('no', 2), ('subjects', 2), ('3', 2), ('year', 2), ('software', 4), ('lab', 2)])\n",
            "[[14, 4, 2, 3, 13, 5, 17], [4, 2, 3, 6, 5, 15], [4, 2, 3, 6, 5, 18], [4, 2, 3, 6, 5, 19], [4, 2, 3, 6, 5, 20], [4, 2, 3, 6, 5, 15], [4, 2, 3, 6, 5, 21], [4, 2, 3, 6, 5, 22], [14, 3, 4, 13, 23], [4, 2, 3, 6, 5, 24], [25], [26, 4, 2, 5, 27], [28, 4, 2, 3, 6, 5], [29, 30], [7, 8, 9, 10, 31], [7, 8, 9, 10, 32], [7, 8, 9, 10, 33], [7, 8, 9, 10, 34], [7, 8, 9, 10, 35], [7, 8, 9, 11, 12, 2, 36], [7, 8, 9, 11, 12, 2, 37], [7, 8, 9, 11, 12, 2, 38], [7, 8, 9, 11, 12, 2, 39], [40, 2, 41, 13, 42, 43, 2, 3], [16, 3], [16, 44]]\n",
            "[[14  4  2  3 13  5 17  0  0  0  0  0  0]\n",
            " [ 4  2  3  6  5 15  0  0  0  0  0  0  0]\n",
            " [ 4  2  3  6  5 18  0  0  0  0  0  0  0]\n",
            " [ 4  2  3  6  5 19  0  0  0  0  0  0  0]\n",
            " [ 4  2  3  6  5 20  0  0  0  0  0  0  0]\n",
            " [ 4  2  3  6  5 15  0  0  0  0  0  0  0]\n",
            " [ 4  2  3  6  5 21  0  0  0  0  0  0  0]\n",
            " [ 4  2  3  6  5 22  0  0  0  0  0  0  0]\n",
            " [14  3  4 13 23  0  0  0  0  0  0  0  0]\n",
            " [ 4  2  3  6  5 24  0  0  0  0  0  0  0]\n",
            " [25  0  0  0  0  0  0  0  0  0  0  0  0]\n",
            " [26  4  2  5 27  0  0  0  0  0  0  0  0]\n",
            " [28  4  2  3  6  5  0  0  0  0  0  0  0]\n",
            " [29 30  0  0  0  0  0  0  0  0  0  0  0]\n",
            " [ 7  8  9 10 31  0  0  0  0  0  0  0  0]\n",
            " [ 7  8  9 10 32  0  0  0  0  0  0  0  0]\n",
            " [ 7  8  9 10 33  0  0  0  0  0  0  0  0]\n",
            " [ 7  8  9 10 34  0  0  0  0  0  0  0  0]\n",
            " [ 7  8  9 10 35  0  0  0  0  0  0  0  0]\n",
            " [ 7  8  9 11 12  2 36  0  0  0  0  0  0]\n",
            " [ 7  8  9 11 12  2 37  0  0  0  0  0  0]\n",
            " [ 7  8  9 11 12  2 38  0  0  0  0  0  0]\n",
            " [ 7  8  9 11 12  2 39  0  0  0  0  0  0]\n",
            " [40  2 41 13 42 43  2  3  0  0  0  0  0]\n",
            " [16  3  0  0  0  0  0  0  0  0  0  0  0]\n",
            " [16 44  0  0  0  0  0  0  0  0  0  0  0]]\n",
            "[[7, 8, 9, 10, 1], [4, 2, 3, 6, 5, 1], [7, 8, 9, 11, 12, 2, 1, 1], [1, 1]]\n"
          ],
          "name": "stdout"
        }
      ]
    },
    {
      "cell_type": "code",
      "metadata": {
        "id": "WrkaQL1pTm_s",
        "colab_type": "code",
        "colab": {}
      },
      "source": [
        ""
      ],
      "execution_count": 0,
      "outputs": []
    }
  ]
}